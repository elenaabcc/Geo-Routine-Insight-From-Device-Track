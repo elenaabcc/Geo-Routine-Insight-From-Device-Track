{
 "cells": [
  {
   "cell_type": "code",
   "execution_count": 4,
   "metadata": {},
   "outputs": [
    {
     "name": "stdout",
     "output_type": "stream",
     "text": [
      "Mappa HTML creata con successo e salvata come 'map_with_arrows.html'\n"
     ]
    }
   ],
   "source": [
    "import pandas as pd\n",
    "import folium\n",
    "from folium.plugins import PolyLineTextPath\n",
    "\n",
    "# Load the data from the CSV file\n",
    "routine_df = pd.read_csv('routine.csv')\n",
    "\n",
    "# Base Map Creation\n",
    "m = folium.Map(location=[routine_df['lat'].mean(), routine_df['lon'].mean()], zoom_start=12)\n",
    "\n",
    "# Add points to the map\n",
    "for idx, row in routine_df.iterrows():\n",
    "    folium.CircleMarker(\n",
    "        location=[row['lat'], row['lon']],\n",
    "        radius=5,\n",
    "        color='blue',\n",
    "        fill=True,\n",
    "        fill_color='blue'\n",
    "    ).add_to(m)\n",
    "\n",
    "# Add line for the path identification\n",
    "coordinates = list(zip(routine_df['lat'], routine_df['lon']))\n",
    "line = folium.PolyLine(locations=coordinates, color='blue').add_to(m)\n",
    "\n",
    "# Add arrow to get the direction of the path\n",
    "folium.plugins.PolyLineTextPath(\n",
    "    line,\n",
    "    '   ➜   ',\n",
    "    repeat=True,\n",
    "    offset=7,\n",
    "    attributes={'fill': 'blue'}\n",
    ").add_to(m)\n",
    "\n",
    "# Same Map into a  HTML\n",
    "m.save('map_with_arrows.html')"
   ]
  }
 ],
 "metadata": {
  "kernelspec": {
   "display_name": "Python 3.10 (tensorflow)",
   "language": "python",
   "name": "tensorflow"
  },
  "language_info": {
   "codemirror_mode": {
    "name": "ipython",
    "version": 3
   },
   "file_extension": ".py",
   "mimetype": "text/x-python",
   "name": "python",
   "nbconvert_exporter": "python",
   "pygments_lexer": "ipython3",
   "version": "3.10.12"
  }
 },
 "nbformat": 4,
 "nbformat_minor": 2
}
