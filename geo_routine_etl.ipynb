{
 "cells": [
  {
   "cell_type": "code",
   "execution_count": 1,
   "metadata": {},
   "outputs": [],
   "source": [
    "import pandas as pd\n",
    "import geopandas as gpd\n",
    "from shapely import wkt\n",
    "import folium\n",
    "from folium.plugins import PolyLineTextPath\n",
    "import numpy as np\n",
    "import matplotlib.colors as mcolors"
   ]
  },
  {
   "cell_type": "code",
   "execution_count": 2,
   "metadata": {},
   "outputs": [],
   "source": [
    "\n",
    "# Load data\n",
    "routine_df = pd.read_csv('routine.csv')\n",
    "polygon_df = pd.read_csv('polygon.csv')"
   ]
  },
  {
   "cell_type": "code",
   "execution_count": 3,
   "metadata": {},
   "outputs": [],
   "source": [
    "# Convert WKT to geometries and create GeoDataFrames \n",
    "polygon_df['geometry'] = polygon_df['wkt'].apply(wkt.loads)\n",
    "\n",
    "#! EPSG:4326  -->  CRS code from the EPSG (European Petroleum Survey Group) database.\n",
    "polygon_gdf = gpd.GeoDataFrame(polygon_df, geometry='geometry', crs='EPSG:4326')\n",
    "routine_gdf = gpd.GeoDataFrame(routine_df, geometry=gpd.points_from_xy(routine_df['lon'], routine_df['lat']), crs='EPSG:4326')\n",
    "\n",
    "# Spatial join  (sjoin) to find points within polygons\n",
    "# Join points with polygons\n",
    "joined_gdf = gpd.sjoin(routine_gdf, polygon_gdf, how='left', predicate='within')\n",
    "\n",
    "# Merge municipality names \n",
    "routine_df = routine_df.join(joined_gdf[['nome_com']], how='left')"
   ]
  },
  {
   "cell_type": "code",
   "execution_count": 4,
   "metadata": {},
   "outputs": [],
   "source": [
    "\n",
    "\n",
    "###############################################################################################\n",
    "###############################################################################################\n",
    "#  Create base map\n",
    "m = folium.Map(location=[routine_df['lat'].mean(), routine_df['lon'].mean()], zoom_start=12)\n",
    "###############################################################################################\n",
    "###############################################################################################"
   ]
  },
  {
   "cell_type": "code",
   "execution_count": 5,
   "metadata": {},
   "outputs": [],
   "source": [
    "# Generate random color map for municipalities\n",
    "def generate_random_color():\n",
    "    return mcolors.to_hex(np.random.rand(3,))\n",
    "\n",
    "color_map = {name: generate_random_color() for name in routine_df['nome_com'].dropna().unique()}\n",
    "\n",
    "# Add points to the map with colors based on municipalities\n",
    "for _, row in routine_df.iterrows():\n",
    "    folium.CircleMarker(\n",
    "        location=[row['lat'], row['lon']],\n",
    "        radius=5,\n",
    "        color=color_map.get(row['nome_com'], 'blue'),\n",
    "        fill=True,\n",
    "        fill_color=color_map.get(row['nome_com'], 'blue')\n",
    "    ).add_to(m)\n",
    "\n",
    "# Add polyline and direction arrows\n",
    "coordinates = list(zip(routine_df['lat'], routine_df['lon']))\n",
    "line = folium.PolyLine(locations=coordinates, color='blue').add_to(m)\n",
    "PolyLineTextPath(line, ' ➜ ', repeat=True, offset=7, attributes={'fill': 'blue'}).add_to(m)\n",
    "\n",
    "# Save the map as an HTML file\n",
    "m.save('map_with_colored_points.html')\n"
   ]
  }
 ],
 "metadata": {
  "kernelspec": {
   "display_name": "Python 3.10 (tensorflow)",
   "language": "python",
   "name": "tensorflow"
  },
  "language_info": {
   "codemirror_mode": {
    "name": "ipython",
    "version": 3
   },
   "file_extension": ".py",
   "mimetype": "text/x-python",
   "name": "python",
   "nbconvert_exporter": "python",
   "pygments_lexer": "ipython3",
   "version": "3.10.12"
  }
 },
 "nbformat": 4,
 "nbformat_minor": 2
}
